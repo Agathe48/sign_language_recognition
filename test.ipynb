{
 "cells": [
  {
   "cell_type": "code",
   "execution_count": null,
   "metadata": {},
   "outputs": [],
   "source": [
    "import cv2\n",
    "import numpy as np\n",
    "import matplotlib.pyplot as plt"
   ]
  },
  {
   "cell_type": "code",
   "execution_count": null,
   "metadata": {},
   "outputs": [],
   "source": [
    "def loadImage(src, show = True):\n",
    "    img=cv2.imread(src,1)\n",
    "    rgb = cv2.cvtColor(img, cv2.COLOR_BGR2RGB)\n",
    "    if show : \n",
    "        plt.imshow(rgb,interpolation='nearest')\n",
    "        plt.show()\n",
    "    return rgb"
   ]
  },
  {
   "cell_type": "code",
   "execution_count": null,
   "metadata": {},
   "outputs": [],
   "source": [
    "file_name = 'dataset/asl_alphabet_train/A/158.jpg'\n",
    "img = loadImage(file_name, show = False)"
   ]
  },
  {
   "cell_type": "code",
   "execution_count": null,
   "metadata": {},
   "outputs": [],
   "source": [
    "# Importing Required Modules \n",
    "from rembg import remove \n",
    "from PIL import Image \n",
    "  \n",
    "# Store path of the image in the variable input_path \n",
    "input_path =  file_name\n",
    "  \n",
    "# Store path of the output image in the variable output_path \n",
    "output_path = 'output.png' \n",
    "  \n",
    "# Processing the image \n",
    "input = Image.open(input_path) \n",
    "  \n",
    "# Removing the background from the given Image \n",
    "output = remove(input) \n",
    "  \n",
    "#Saving the image in the given path \n",
    "output.save(output_path) \n",
    "\n",
    "plt.imshow(img)\n",
    "plt.show()\n",
    "plt.imshow(output, cmap='gray')\n",
    "plt.show()\n"
   ]
  },
  {
   "cell_type": "code",
   "execution_count": null,
   "metadata": {},
   "outputs": [],
   "source": [
    "import os\n",
    "\n",
    "def remove_background(folder_path):\n",
    "    if not os.path.exists('dataset/asl_alphabet_clean'):\n",
    "        os.makedirs('dataset/asl_alphabet_clean')\n",
    "    for folder in os.listdir(folder_path):\n",
    "        for file in os.listdir(folder_path + folder):\n",
    "            print(folder_path + folder + '/' + file)\n",
    "            if file.endswith('.jpg') or file.endswith('.png'):\n",
    "                file_path = folder_path + folder + '/' + file\n",
    "                input = Image.open(file_path) \n",
    "                output = remove(input) \n",
    "                if not os.path.exists('dataset/asl_alphabet_clean' + '/' + folder):\n",
    "                    os.makedirs('dataset/asl_alphabet_clean' + '/' + folder)\n",
    "                filename, extension = os.path.splitext(file)\n",
    "                output.save('dataset/asl_alphabet_clean' + '/' + folder + '/' + filename + '.png')\n",
    "\n",
    "remove_background('dataset/asl_alphabet_train/')"
   ]
  }
 ],
 "metadata": {
  "kernelspec": {
   "display_name": "venv",
   "language": "python",
   "name": "python3"
  },
  "language_info": {
   "codemirror_mode": {
    "name": "ipython",
    "version": 3
   },
   "file_extension": ".py",
   "mimetype": "text/x-python",
   "name": "python",
   "nbconvert_exporter": "python",
   "pygments_lexer": "ipython3",
   "version": "3.11.9"
  }
 },
 "nbformat": 4,
 "nbformat_minor": 2
}
